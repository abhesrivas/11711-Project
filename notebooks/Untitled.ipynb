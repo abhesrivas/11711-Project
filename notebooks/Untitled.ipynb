{
 "cells": [
  {
   "cell_type": "code",
   "execution_count": 2,
   "id": "durable-absolute",
   "metadata": {},
   "outputs": [],
   "source": [
    "def postprocess(text):\n",
    "    return text.split(\"?\")[0]"
   ]
  },
  {
   "cell_type": "code",
   "execution_count": 5,
   "id": "surrounded-institution",
   "metadata": {},
   "outputs": [
    {
     "data": {
      "text/plain": [
       "'How do widows and widowers apply for disability benefits'"
      ]
     },
     "execution_count": 5,
     "metadata": {},
     "output_type": "execute_result"
    }
   ],
   "source": [
    "postprocess(\"How do widows and widowers apply for disability benefits?? when does a disability begin??.??????\")"
   ]
  },
  {
   "cell_type": "code",
   "execution_count": null,
   "id": "rural-stranger",
   "metadata": {},
   "outputs": [],
   "source": []
  }
 ],
 "metadata": {
  "kernelspec": {
   "display_name": "Python 3",
   "language": "python",
   "name": "python3"
  },
  "language_info": {
   "codemirror_mode": {
    "name": "ipython",
    "version": 3
   },
   "file_extension": ".py",
   "mimetype": "text/x-python",
   "name": "python",
   "nbconvert_exporter": "python",
   "pygments_lexer": "ipython3",
   "version": "3.7.10"
  }
 },
 "nbformat": 4,
 "nbformat_minor": 5
}
